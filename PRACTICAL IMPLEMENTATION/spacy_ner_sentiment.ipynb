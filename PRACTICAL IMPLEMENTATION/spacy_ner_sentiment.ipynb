{
 "cells": [
  {
   "cell_type": "markdown",
   "metadata": {},
   "source": [
    "# Task 3: NLP with spaCy\n",
    "\n",
    "**Goal:**\n",
    "- Perform Named Entity Recognition (NER) to extract product names and brands\n",
    "- Analyze sentiment using a rule-based approach\n",
    "- Show sample output"
   ]
  },
  {
   "cell_type": "code",
   "execution_count": null,
   "metadata": {},
   "outputs": [],
   "source": [
    "# 1. Install and import spaCy\n",
    "# !pip install spacy\n",
    "# !python -m spacy download en_core_web_sm\n",
    "import spacy\n",
    "from spacy import displacy"
   ]
  },
  {
   "cell_type": "code",
   "execution_count": null,
   "metadata": {},
   "outputs": [],
   "source": [
    "# 2. Load English NLP model\n",
    "nlp = spacy.load(\"en_core_web_sm\")"
   ]
  },
  {
   "cell_type": "code",
   "execution_count": null,
   "metadata": {},
   "outputs": [],
   "source": [
    "# 3. Example Amazon product reviews\n",
    "reviews = [\n",
    "    \"I love my new Apple iPhone! It's so fast and sleek.\",\n",
    "    \"The Samsung Galaxy has a terrible battery life. Not impressed.\",\n",
    "    \"Got a pair of Nike shoes and they’re super comfortable!\",\n",
    "    \"This Dell laptop crashed after a week. Waste of money.\"\n",
    "]"
   ]
  },
  {
   "cell_type": "code",
   "execution_count": null,
   "metadata": {},
   "outputs": [],
   "source": [
    "# 4. Perform NER and rule-based sentiment analysis\n",
    "positive_keywords = [\"love\", \"great\", \"fast\", \"amazing\", \"super\", \"comfortable\"]\n",
    "negative_keywords = [\"terrible\", \"bad\", \"waste\", \"crashed\", \"not\", \"disappointed\"]\n",
    "\n",
    "for review in reviews:\n",
    "    doc = nlp(review)\n",
    "    print(\"\\nReview:\", review)\n",
    "\n",
    "    # Named Entity Recognition\n",
    "    print(\"Entities:\")\n",
    "    for ent in doc.ents:\n",
    "        print(f\"- {ent.text} ({ent.label_})\")\n",
    "\n",
    "    # Rule-based sentiment analysis\n",
    "    sentiment = \"neutral\"\n",
    "    if any(word in review.lower() for word in positive_keywords):\n",
    "        sentiment = \"positive\"\n",
    "    elif any(word in review.lower() for word in negative_keywords):\n",
    "        sentiment = \"negative\"\n",
    "\n",
    "    print(\"Sentiment:\", sentiment)"
   ]
  }
 ],
 "metadata": {
  "kernelspec": {
   "display_name": "learn-env",
   "language": "python",
   "name": "python3"
  },
  "language_info": {
   "name": "python",
   "version": "3.8.5"
  }
 },
 "nbformat": 4,
 "nbformat_minor": 5
}
