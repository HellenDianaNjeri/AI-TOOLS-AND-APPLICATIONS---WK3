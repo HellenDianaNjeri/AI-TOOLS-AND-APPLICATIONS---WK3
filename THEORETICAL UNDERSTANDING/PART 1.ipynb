{
 "cells": [
  {
   "cell_type": "markdown",
   "id": "5c21ebed",
   "metadata": {},
   "source": [
    "# Q1:Explain the primary differences between TensorFlow and PyTorch. When would you choose one over the other?"
   ]
  },
  {
   "cell_type": "markdown",
   "id": "0e229920",
   "metadata": {},
   "source": [
    "TensorFlow uses static computation graphs (via tf.Graph) and has better deployment support (especially with TensorFlow Serving, TensorFlow Lite, and TF.js).\n",
    "\n",
    "PyTorch uses dynamic computation graphs (eager execution), making it more intuitive and Pythonic, especially for research and rapid prototyping.\n",
    "\n",
    "- Choose TensorFlow for production environments and mobile/web deployment.\n",
    "- Choose PyTorch for academic research, fast experimentation, and easier debugging."
   ]
  },
  {
   "cell_type": "markdown",
   "id": "f6cfc398",
   "metadata": {},
   "source": [
    "# Q2: Describe two use cases for Jupyter Notebooks in AI development."
   ]
  },
  {
   "cell_type": "markdown",
   "id": "823800ef",
   "metadata": {},
   "source": [
    "Data Exploration and Visualization: Ideal for visualizing datasets, checking distributions, and cleaning data with live output and inline charts.\n",
    "\n",
    "Model Prototyping and Experimentation: Allows testing different machine learning models or algorithms interactively with detailed documentation and results displayed step by step."
   ]
  },
  {
   "cell_type": "markdown",
   "id": "40d071b3",
   "metadata": {},
   "source": [
    "# Q3.How does spaCy enhance NLP tasks compared to basic Python string operations?"
   ]
  },
  {
   "cell_type": "markdown",
   "id": "0d5b1444",
   "metadata": {},
   "source": [
    "spaCy provides pre-trained models and advanced NLP features like tokenization, part-of-speech tagging, named entity recognition, and dependency parsing, which are far more accurate and context-aware than basic string operations like split() or find(), which lack linguistic intelligence."
   ]
  }
 ],
 "metadata": {
  "kernelspec": {
   "display_name": "learn-env",
   "language": "python",
   "name": "python3"
  },
  "language_info": {
   "name": "python",
   "version": "3.8.5"
  }
 },
 "nbformat": 4,
 "nbformat_minor": 5
}
