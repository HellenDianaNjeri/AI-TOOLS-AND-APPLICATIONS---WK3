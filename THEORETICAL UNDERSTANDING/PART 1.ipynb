{
 "cells": [
  {
   "cell_type": "markdown",
   "id": "5c21ebed",
   "metadata": {},
   "source": [
    "# Q1:Explain the primary differences between TensorFlow and PyTorch. When would you choose one over the other?"
   ]
  },
  {
   "cell_type": "markdown",
   "id": "f6cfc398",
   "metadata": {},
   "source": [
    "# Q2: Describe two use cases for Jupyter Notebooks in AI development."
   ]
  },
  {
   "cell_type": "markdown",
   "id": "40d071b3",
   "metadata": {},
   "source": [
    "# Q3.How does spaCy enhance NLP tasks compared to basic Python string operations?"
   ]
  }
 ],
 "metadata": {
  "language_info": {
   "name": "python"
  }
 },
 "nbformat": 4,
 "nbformat_minor": 5
}
