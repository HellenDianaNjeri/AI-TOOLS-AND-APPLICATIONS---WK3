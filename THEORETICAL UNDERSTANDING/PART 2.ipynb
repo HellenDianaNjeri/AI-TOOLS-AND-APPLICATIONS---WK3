{
 "cells": [
  {
   "cell_type": "markdown",
   "id": "c4ad63ce",
   "metadata": {},
   "source": [
    "## Comparative Analysis\n",
    "\n",
    "Compare Scikit-learn and TensorFlow in terms of:\n",
    "\n",
    "Target applications (e.g., classical ML vs. deep learning).\n",
    "\n",
    "Ease of use for beginners.\n",
    "\n",
    "Community support."
   ]
  },
  {
   "cell_type": "markdown",
   "id": "600b93e5",
   "metadata": {},
   "source": [
    "| Feature               | Scikit-learn                                         | TensorFlow                                               |\n",
    "|-----------------------|------------------------------------------------------|-----------------------------------------------------------|\n",
    "| **Target Applications** | Classical machine learning (e.g., regression, SVMs) | Deep learning (e.g., neural networks, CNNs, RNNs)         |\n",
    "| **Ease of Use**         | Beginner-friendly with simple, consistent API       | Steeper learning curve; easier with Keras (`tf.keras`)    |\n",
    "| **Community Support**   | Strong support for classical ML; mature and stable  | Very large community; frequent updates; backed by Google  |\n"
   ]
  }
 ],
 "metadata": {
  "language_info": {
   "name": "python"
  }
 },
 "nbformat": 4,
 "nbformat_minor": 5
}
